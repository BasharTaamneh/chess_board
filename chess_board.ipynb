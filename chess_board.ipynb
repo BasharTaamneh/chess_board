{
 "cells": [
  {
   "cell_type": "code",
   "execution_count": 144,
   "metadata": {},
   "outputs": [],
   "source": [
    "%matplotlib inline\n",
    "import numpy as np\n",
    "import matplotlib.pyplot as plt"
   ]
  },
  {
   "cell_type": "code",
   "execution_count": 145,
   "metadata": {},
   "outputs": [],
   "source": [
    "red = (1, 0, 0)\n",
    "blue = (0, 0, 1)"
   ]
  },
  {
   "cell_type": "code",
   "execution_count": 146,
   "metadata": {},
   "outputs": [],
   "source": [
    "\n",
    "class Board:\n",
    "    \"\"\"\n",
    "    Board Class creates a black and white chess board and includes two queens in it \n",
    "    and then checks if one of them is about to attack the other \n",
    "    with a vertical, horizontal or triangular doubt\n",
    "\n",
    "    Methodes\n",
    "    ---\n",
    "    __init__(self):\n",
    "\n",
    "    Creates a chess board using numpy and nested loop\n",
    "\n",
    "    random(self):\n",
    "\n",
    "    It generates a random number from one to seven using numpy.random \n",
    "\n",
    "    add_red(self, row=0, col=0):\n",
    "\n",
    "    Adds Red Queen.\n",
    "        Arguments:\n",
    "        row: Row number with defulte value 0\n",
    "        column: Col number with defulte value 0\n",
    "        Creates Red Queen in that location.\n",
    "\n",
    "    add_blue(self, row=0, col=0):\n",
    "\n",
    "    Adds Blue Queen.\n",
    "        Arguments:\n",
    "        row: Row number with defulte value 0\n",
    "        column: Col number with defulte value 0\n",
    "        Creates Blue Queen in that location.\n",
    "\n",
    "    is_under_attack(self):\n",
    "\n",
    "    Checks if ones of the Queens are about to attack the other one or not. return Boolean\n",
    "\n",
    "    render(self):\n",
    "\n",
    "    Simulates the result graphically using matplotlib.pyplot\n",
    "\n",
    "    Play(self):\n",
    "\n",
    "    It runs {Board Class} functions by executing them together without having to call each one separately when running\n",
    "    \"\"\"\n",
    "    def __init__(self):\n",
    "        self.grid = np.zeros((8, 8, 3))\n",
    "        for i in range(8):\n",
    "            for j in range(8):\n",
    "                if not j % 2 and not i % 2 or j % 2 and i % 2:\n",
    "                    self.grid[i, j] = (0.8, 0.8, 0.8)\n",
    "\n",
    "    def random(self):\n",
    "        self.randnum = np.random.randint(0, 8)\n",
    "        return self.randnum\n",
    "\n",
    "    def add_red(self, row=0, col=0):\n",
    "        self.grid[row, col] = red\n",
    "        self.red = [row, col]\n",
    "        print(f\"Red queen is in R{row} / C{col} \")\n",
    "        \n",
    "\n",
    "    def add_blue(self, row=0, col=0):\n",
    "        self.grid[row, col] = blue\n",
    "        print(f\"Blue queen is in R{row} / C{col} \")\n",
    "        self.blue = [row, col]\n",
    "\n",
    "    def is_under_attack(self):\n",
    "        # check board and return True if red is under attack\n",
    "        if (self.blue[0] + self.blue[1] == self.red[0] + self.red[1]) or (self.blue[0] + self.red[1] == self.red[0] + self.blue[1]) or (self.blue[0] == self.red[0]) or (self.blue[1] == self.red[1]):\n",
    "            return True\n",
    "        else:\n",
    "            return False\n",
    "\n",
    "    def render(self):\n",
    "        plt.imshow(self.grid)\n",
    "\n",
    "    def Play(self):\n",
    "        self.add_blue(self.random(), self.random())\n",
    "        self.add_red(self.random(), self.random())\n",
    "        self.render()\n",
    "        if self.is_under_attack():\n",
    "            print(\"Red is under attack by a Blue\")\n",
    "            return True\n",
    "       "
   ]
  },
  {
   "cell_type": "code",
   "execution_count": 157,
   "metadata": {},
   "outputs": [
    {
     "name": "stdout",
     "output_type": "stream",
     "text": [
      "Blue queen is in R5 / C4 \n",
      "Red queen is in R1 / C7 \n"
     ]
    },
    {
     "data": {
      "image/png": "[encoded data removed]",
      "text/plain": [
       "<Figure size 432x288 with 1 Axes>"
      ]
     },
     "metadata": {
      "needs_background": "light"
     },
     "output_type": "display_data"
    }
   ],
   "source": [
    "chess = Board()\n",
    "chess.Play()"
   ]
  },
  {
   "cell_type": "markdown",
   "metadata": {},
   "source": [
    "# The cells below, only for the testing purpose "
   ]
  },
  {
   "cell_type": "code",
   "execution_count": 148,
   "metadata": {},
   "outputs": [
    {
     "name": "stdout",
     "output_type": "stream",
     "text": [
      "Red queen is in R7 / C5 \n",
      "Blue queen is in R1 / C1 \n"
     ]
    },
    {
     "data": {
      "image/png": "[encoded data removed]",
      "text/plain": [
       "<Figure size 432x288 with 1 Axes>"
      ]
     },
     "metadata": {
      "needs_background": "light"
     },
     "output_type": "display_data"
    }
   ],
   "source": [
    "def test_is_under_attack_diagonal_1():\n",
    "    # Arrange\n",
    "    chess = Board()\n",
    "    chess.add_red(7, 5)\n",
    "    chess.add_blue(1, 1)\n",
    "    chess.render()\n",
    "    # Act\n",
    "    actual = chess.is_under_attack()\n",
    "    # expected\n",
    "    expected = False\n",
    "    assert actual == expected\n",
    "\n",
    "\n",
    "test_is_under_attack_diagonal_1()\n"
   ]
  },
  {
   "cell_type": "code",
   "execution_count": 149,
   "metadata": {},
   "outputs": [
    {
     "name": "stdout",
     "output_type": "stream",
     "text": [
      "Red queen is in R7 / C6 \n",
      "Blue queen is in R1 / C0 \n"
     ]
    },
    {
     "data": {
      "image/png": "[encoded data removed]",
      "text/plain": [
       "<Figure size 432x288 with 1 Axes>"
      ]
     },
     "metadata": {
      "needs_background": "light"
     },
     "output_type": "display_data"
    }
   ],
   "source": [
    "def test_is_under_attack_diagonal_2():\n",
    "    # Arrange\n",
    "    chess = Board()\n",
    "    chess.add_red(7, 6)\n",
    "    chess.add_blue(1, 0)\n",
    "    chess.render()\n",
    "    # Act\n",
    "    actual = chess.is_under_attack()\n",
    "    # expected\n",
    "    expected = True\n",
    "    assert actual == expected\n",
    "\n",
    "\n",
    "test_is_under_attack_diagonal_2()\n"
   ]
  },
  {
   "cell_type": "code",
   "execution_count": 150,
   "metadata": {},
   "outputs": [
    {
     "name": "stdout",
     "output_type": "stream",
     "text": [
      "Red queen is in R7 / C0 \n",
      "Blue queen is in R0 / C7 \n"
     ]
    },
    {
     "data": {
      "image/png": "[encoded data removed]",
      "text/plain": [
       "<Figure size 432x288 with 1 Axes>"
      ]
     },
     "metadata": {
      "needs_background": "light"
     },
     "output_type": "display_data"
    }
   ],
   "source": [
    "def test_is_under_attack_diagonal_3():\n",
    "    # Arrange\n",
    "    chess = Board()\n",
    "    chess.add_red(7, 0)\n",
    "    chess.add_blue(0, 7)\n",
    "    chess.render()\n",
    "    # Act\n",
    "    actual = chess.is_under_attack()\n",
    "    # expected\n",
    "    expected = True\n",
    "    assert actual == expected\n",
    "\n",
    "\n",
    "test_is_under_attack_diagonal_3()\n"
   ]
  },
  {
   "cell_type": "code",
   "execution_count": 151,
   "metadata": {},
   "outputs": [
    {
     "name": "stdout",
     "output_type": "stream",
     "text": [
      "Red queen is in R0 / C2 \n",
      "Blue queen is in R2 / C0 \n"
     ]
    },
    {
     "data": {
      "image/png": "[encoded data removed]",
      "text/plain": [
       "<Figure size 432x288 with 1 Axes>"
      ]
     },
     "metadata": {
      "needs_background": "light"
     },
     "output_type": "display_data"
    }
   ],
   "source": [
    "def test_is_under_attack_diagonal_4():\n",
    "    # Arrange\n",
    "    chess = Board()\n",
    "    chess.add_red(0, 2)\n",
    "    chess.add_blue(2, 0)\n",
    "    chess.render()\n",
    "    # Act\n",
    "    actual = chess.is_under_attack()\n",
    "    # expected\n",
    "    expected = True\n",
    "    assert actual == expected\n",
    "\n",
    "\n",
    "test_is_under_attack_diagonal_4()\n"
   ]
  },
  {
   "cell_type": "code",
   "execution_count": 152,
   "metadata": {},
   "outputs": [
    {
     "name": "stdout",
     "output_type": "stream",
     "text": [
      "Red queen is in R0 / C2 \n",
      "Blue queen is in R5 / C2 \n"
     ]
    },
    {
     "data": {
      "image/png": "[encoded data removed]",
      "text/plain": [
       "<Figure size 432x288 with 1 Axes>"
      ]
     },
     "metadata": {
      "needs_background": "light"
     },
     "output_type": "display_data"
    }
   ],
   "source": [
    "def test_is_under_attack_diagonal_5():\n",
    "    # Arrange\n",
    "    chess = Board()\n",
    "    chess.add_red(0, 2)\n",
    "    chess.add_blue(5, 2)\n",
    "    chess.render()\n",
    "    # Act\n",
    "    actual = chess.is_under_attack()\n",
    "    # expected\n",
    "    expected = True\n",
    "    assert actual == expected\n",
    "\n",
    "\n",
    "test_is_under_attack_diagonal_5()\n"
   ]
  },
  {
   "cell_type": "code",
   "execution_count": 153,
   "metadata": {},
   "outputs": [
    {
     "name": "stdout",
     "output_type": "stream",
     "text": [
      "Red queen is in R4 / C1 \n",
      "Blue queen is in R4 / C5 \n"
     ]
    },
    {
     "data": {
      "image/png": "[encoded data removed]",
      "text/plain": [
       "<Figure size 432x288 with 1 Axes>"
      ]
     },
     "metadata": {
      "needs_background": "light"
     },
     "output_type": "display_data"
    }
   ],
   "source": [
    "def test_is_under_attack_diagonal_6():\n",
    "    # Arrange\n",
    "    chess = Board()\n",
    "    chess.add_red(4, 1)\n",
    "    chess.add_blue(4, 5)\n",
    "    chess.render()\n",
    "    # Act\n",
    "    actual = chess.is_under_attack()\n",
    "    # expected\n",
    "    expected = True\n",
    "    assert actual == expected\n",
    "\n",
    "\n",
    "test_is_under_attack_diagonal_6()\n"
   ]
  },
  {
   "cell_type": "code",
   "execution_count": 154,
   "metadata": {},
   "outputs": [
    {
     "name": "stdout",
     "output_type": "stream",
     "text": [
      "Red queen is in R5 / C3 \n",
      "Blue queen is in R4 / C6 \n"
     ]
    },
    {
     "data": {
      "image/png": "[encoded data removed]",
      "text/plain": [
       "<Figure size 432x288 with 1 Axes>"
      ]
     },
     "metadata": {
      "needs_background": "light"
     },
     "output_type": "display_data"
    }
   ],
   "source": [
    "def test_is_under_attack_diagonal_in_row_false():\n",
    "    # Arrange\n",
    "    chess = Board()\n",
    "    chess.add_red(5, 3)\n",
    "    chess.add_blue(4, 6)\n",
    "    chess.render()\n",
    "    # Act\n",
    "    actual = chess.is_under_attack()\n",
    "    # expected\n",
    "    expected = False\n",
    "    assert actual == expected\n",
    "\n",
    "\n",
    "test_is_under_attack_diagonal_in_row_false()\n"
   ]
  }
 ],
 "metadata": {
  "interpreter": {
   "hash": "f9b141f8b9665a7e1cc2de933eb54c3baf5fdde639342358869d9ce69a1f7088"
  },
  "kernelspec": {
   "display_name": "Python 3.9.7 64-bit ('.venv': poetry)",
   "name": "python3"
  },
  "language_info": {
   "codemirror_mode": {
    "name": "ipython",
    "version": 3
   },
   "file_extension": ".py",
   "mimetype": "text/x-python",
   "name": "python",
   "nbconvert_exporter": "python",
   "pygments_lexer": "ipython3",
   "version": "3.9.7"
  },
  "orig_nbformat": 4
 },
 "nbformat": 4,
 "nbformat_minor": 2
}
